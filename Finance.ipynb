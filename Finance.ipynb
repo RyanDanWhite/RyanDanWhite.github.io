{
  "nbformat": 4,
  "nbformat_minor": 0,
  "metadata": {
    "colab": {
      "provenance": [],
      "authorship_tag": "ABX9TyPgp21zGwy57l76OjXnWZFj",
      "include_colab_link": true
    },
    "kernelspec": {
      "name": "python3",
      "display_name": "Python 3"
    },
    "language_info": {
      "name": "python"
    }
  },
  "cells": [
    {
      "cell_type": "markdown",
      "metadata": {
        "id": "view-in-github",
        "colab_type": "text"
      },
      "source": [
        "<a href=\"https://colab.research.google.com/github/RyanDanWhite/RyanDanWhite.github.io/blob/master/Finance.ipynb\" target=\"_parent\"><img src=\"https://colab.research.google.com/assets/colab-badge.svg\" alt=\"Open In Colab\"/></a>"
      ]
    },
    {
      "cell_type": "code",
      "source": [
        "# detect environment and install libraries\n",
        "    import google.colab  # Check if in Colab\n",
        "    !pip install yfinance --upgrade --no-cache-dir\n",
        "    !pip install pandas\n",
        "    !pip install numpy\n",
        "    !pip install requests_cache\n",
        "except ImportError:\n",
        "    # Assume Anaconda environment\n",
        "    !conda install -c conda-forge yfinance -y\n",
        "    !conda install pandas numpy requests_cache -y"
      ],
      "metadata": {
        "id": "DxddyTqWHsAm"
      },
      "execution_count": null,
      "outputs": []
    },
    {
      "cell_type": "markdown",
      "source": [
        "Yahoo Finance API allows you to make 2000 requests per IP per hour => 48k requests per day.\n",
        "https://ranaroussi.github.io/yfinance/reference/index.html"
      ],
      "metadata": {
        "id": "KHyPlP8KSuKO"
      }
    },
    {
      "cell_type": "code",
      "source": [
        "#import libraries\n",
        "import yfinance as yf\n",
        "import pandas as pd\n",
        "import numpy as np\n",
        "import requests_cache\n",
        "import os"
      ],
      "metadata": {
        "id": "7hhJdzTAK42s"
      },
      "execution_count": null,
      "outputs": []
    },
    {
      "cell_type": "code",
      "source": [
        "# start a PHP session for improved performance\n",
        "# if using in anaconda this step may cause errors\n",
        "cache_dir = os.path.expanduser('~/.cache/yfinance')  # Portable cache directory\n",
        "if not os.path.exists(cache_dir):\n",
        "    os.makedirs(cache_dir)\n",
        "session = requests_cache.CachedSession(cache_dir)\n",
        "session.expire_after = 86400"
      ],
      "metadata": {
        "id": "SAQvWbDTP-Xb"
      },
      "execution_count": null,
      "outputs": []
    },
    {
      "cell_type": "code",
      "source": [
        "# Define the stock tickers\n",
        "# Get Russell 2000 tickers\n",
        "r2000 = yf.Ticker(\"^RUT\")\n",
        "r2000_tickers = r2000.tickers\n",
        "\n",
        "# Get S&P 500 tickers\n",
        "sp500 = yf.Ticker(\"^GSPC\")\n",
        "sp500_tickers = sp500.tickers\n",
        "\n",
        "# Combine the lists\n",
        "tickers = r2000_tickers + sp500_tickers"
      ],
      "metadata": {
        "id": "A5dCnLLAK69D"
      },
      "execution_count": null,
      "outputs": []
    },
    {
      "cell_type": "code",
      "source": [
        "# Function to calculate moving averages\n",
        "def calculate_moving_averages(data, window):\n",
        "    return data.rolling(window=window).mean()"
      ],
      "metadata": {
        "id": "XHpxDc7pK9mL"
      },
      "execution_count": null,
      "outputs": []
    },
    {
      "cell_type": "code",
      "source": [
        "# Function to calculate RSI\n",
        "def calculate_rsi(data, window=14):\n",
        "    delta = data.diff()\n",
        "    gain = (delta.where(delta > 0, 0)).rolling(window=window).mean()\n",
        "    loss = (-delta.where(delta < 0, 0)).rolling(window=window).mean()\n",
        "    rs = gain / loss\n",
        "    rsi = 100 - (100 / (1 + rs))\n",
        "    return rsi"
      ],
      "metadata": {
        "id": "RuPhEWjcLBtj"
      },
      "execution_count": null,
      "outputs": []
    },
    {
      "cell_type": "code",
      "source": [
        "# Function to calculate MACD\n",
        "def calculate_macd(data, short_window=12, long_window=26, signal_window=9):\n",
        "    short_ema = data.ewm(span=short_window, adjust=False).mean()\n",
        "    long_ema = data.ewm(span=long_window, adjust=False).mean()\n",
        "    macd = short_ema - long_ema\n",
        "    signal = macd.ewm(span=signal_window, adjust=False).mean()\n",
        "    return macd, signal"
      ],
      "metadata": {
        "id": "qwqf13TqLAFz"
      },
      "execution_count": null,
      "outputs": []
    },
    {
      "cell_type": "code",
      "source": [
        "# Download data and calculate indicators\n",
        "for ticker in tickers:\n",
        "    try:\n",
        "        data = yf.download(ticker, period=\"1y\")\n",
        "        if 'Close' in data.columns:\n",
        "            data['SMA_50'] = calculate_moving_averages(data['Close'], 50)\n",
        "            data['SMA_200'] = calculate_moving_averages(data['Close'], 200)\n",
        "            data['MACD'], data['Signal_Line'] = calculate_macd(data['Close'])\n",
        "            data['RSI'] = calculate_rsi(data['Close'])\n",
        "        else:\n",
        "            print(f\"Warning: 'Close' column not found for {ticker}\")\n",
        "    except Exception as e:\n",
        "        print(f\"Error processing {ticker}: {e}\")\n",
        ""
      ],
      "metadata": {
        "id": "hpy3dh14LFUM"
      },
      "execution_count": null,
      "outputs": []
    },
    {
      "cell_type": "code",
      "source": [
        " # Save to CSV\n",
        "    data.to_csv(f\"{ticker}_data.csv\")"
      ],
      "metadata": {
        "id": "W2WTV2VBLGRT"
      },
      "execution_count": null,
      "outputs": []
    }
  ]
}